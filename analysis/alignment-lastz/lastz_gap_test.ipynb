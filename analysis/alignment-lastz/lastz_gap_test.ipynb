{
 "cells": [
  {
   "cell_type": "markdown",
   "metadata": {},
   "source": [
    "# Goal\n",
    "\n",
    "Compare gapped and ungapped lastz output to see whether the methods yield different amounts of gametolog sequence."
   ]
  },
  {
   "cell_type": "code",
   "execution_count": 36,
   "metadata": {},
   "outputs": [],
   "source": [
    "import csv\n",
    "from tqdm import tqdm\n",
    "\n",
    "gap_file = '../../data/alignment-lastz/lastz-align-10k-gapped.bed'\n",
    "ungap_file = '../../data/alignment-lastz/lastz-align-10k-ungapped.bed'"
   ]
  },
  {
   "cell_type": "code",
   "execution_count": 15,
   "metadata": {},
   "outputs": [],
   "source": [
    "# create dicts w/ lastz data\n",
    "with open(gap_file, 'r', newline = '') as f:\n",
    "    reader = csv.DictReader(f, delimiter = '\\t')\n",
    "    gapped = [row for row in reader]\n",
    "\n",
    "with open(ungap_file, 'r', newline = '') as f:\n",
    "    reader = csv.DictReader(f, delimiter = '\\t')\n",
    "    ungapped = [row for row in reader]"
   ]
  },
  {
   "cell_type": "code",
   "execution_count": 23,
   "metadata": {},
   "outputs": [
    {
     "data": {
      "text/plain": [
       "{'#score': '977241',\n",
       " 'covPct': '3.4%',\n",
       " 'coverage': '11909/345555',\n",
       " 'end1': '11708',\n",
       " 'end2': '11909',\n",
       " 'idPct': '96.7%',\n",
       " 'identity': '10969/11345',\n",
       " 'name1': 'chromosome_6',\n",
       " 'name2': 'mtMinus',\n",
       " 'size1': '528439',\n",
       " 'size2': '345555',\n",
       " 'strand1': '+',\n",
       " 'strand2': '+',\n",
       " 'zstart1': '0',\n",
       " 'zstart2': '0'}"
      ]
     },
     "execution_count": 23,
     "metadata": {},
     "output_type": "execute_result"
    }
   ],
   "source": [
    "gapped[0]"
   ]
  },
  {
   "cell_type": "code",
   "execution_count": 44,
   "metadata": {},
   "outputs": [
    {
     "name": "stderr",
     "output_type": "stream",
     "text": [
      "100%|██████████| 260/260 [00:00<00:00, 10393.32it/s]\n",
      "100%|██████████| 1003/1003 [00:00<00:00, 46371.19it/s]"
     ]
    },
    {
     "name": "stdout",
     "output_type": "stream",
     "text": [
      "358673 312300\n",
      "46373\n"
     ]
    },
    {
     "name": "stderr",
     "output_type": "stream",
     "text": [
      "\n"
     ]
    }
   ],
   "source": [
    "def populate_intervals(lastz_file, allele = None):\n",
    "    if allele == 'plus':\n",
    "        intervals = [[int(line['zstart1']), int(line['end1'])] \n",
    "                      for line in lastz_file]\n",
    "    elif allele == 'minus':\n",
    "        intervals = [[int(line['zstart2']), int(line['end2'])] \n",
    "                     for line in lastz_file]\n",
    "    bases_covered = []\n",
    "    for start, end in tqdm(intervals):\n",
    "        values = [num for num in range(start, end)]\n",
    "        bases_covered.extend(values)\n",
    "    return set(bases_covered)\n",
    "        \n",
    "gapped_plus = populate_intervals(gapped, allele = 'plus')\n",
    "ungapped_plus = populate_intervals(ungapped, allele = 'plus')\n",
    "\n",
    "print(len(gapped_plus),\n",
    "      len(ungapped_plus))\n",
    "\n",
    "difference_plus = gapped_plus.difference(ungapped_plus)\n",
    "print(len(difference_plus))"
   ]
  },
  {
   "cell_type": "code",
   "execution_count": 47,
   "metadata": {},
   "outputs": [
    {
     "data": {
      "text/plain": [
       "[209,\n",
       " 210,\n",
       " 211,\n",
       " 212,\n",
       " 213,\n",
       " 214,\n",
       " 215,\n",
       " 216,\n",
       " 217,\n",
       " 218,\n",
       " 219,\n",
       " 220,\n",
       " 221,\n",
       " 222,\n",
       " 223,\n",
       " 224,\n",
       " 225,\n",
       " 226,\n",
       " 227,\n",
       " 228]"
      ]
     },
     "execution_count": 47,
     "metadata": {},
     "output_type": "execute_result"
    }
   ],
   "source": [
    "sorted(list(difference_plus))[:20]"
   ]
  },
  {
   "cell_type": "code",
   "execution_count": 49,
   "metadata": {},
   "outputs": [
    {
     "name": "stdout",
     "output_type": "stream",
     "text": [
      "CATCACAGGTAGCAAAGCAGCTCAAGCAAGGCCCGGCCAGGAGCCGGTCATTGTCAAACCCCGCACAGGCAAT\n",
      "GTCACAGGTAGTAAAGCAACTCAAGCAAGGCCGGCCAGGGGCCGGTCATTGTCAAACCCCGCACAGGCAATCC\n"
     ]
    }
   ],
   "source": [
    "# how does the 209-282 interval stack up fasta wise?\n",
    "# this interval was excluded in ungapped, but included in gapped\n",
    "from Bio import SeqIO\n",
    "plus_fasta = SeqIO.read('../../data/references/mt_plus.fasta', 'fasta')\n",
    "minus_fasta = SeqIO.read('../../data/references/mt_minus.fasta', 'fasta')\n",
    "\n",
    "for f in [plus_fasta, minus_fasta]:\n",
    "    print(str(f.seq[209:282]))"
   ]
  },
  {
   "cell_type": "code",
   "execution_count": 51,
   "metadata": {},
   "outputs": [
    {
     "name": "stdout",
     "output_type": "stream",
     "text": [
      "0.0877546888098721\n"
     ]
    }
   ],
   "source": [
    "# what percent of the mt locus are we losing\n",
    "\n",
    "print(len(difference_plus) / len(plus_fasta.seq))"
   ]
  },
  {
   "cell_type": "code",
   "execution_count": null,
   "metadata": {},
   "outputs": [],
   "source": []
  }
 ],
 "metadata": {
  "jupytext": {},
  "kernelspec": {
   "display_name": "Python 3",
   "language": "python",
   "name": "python3"
  },
  "language_info": {
   "codemirror_mode": {
    "name": "ipython",
    "version": 3
   },
   "file_extension": ".py",
   "mimetype": "text/x-python",
   "name": "python",
   "nbconvert_exporter": "python",
   "pygments_lexer": "ipython3",
   "version": "3.5.1"
  }
 },
 "nbformat": 4,
 "nbformat_minor": 2
}
