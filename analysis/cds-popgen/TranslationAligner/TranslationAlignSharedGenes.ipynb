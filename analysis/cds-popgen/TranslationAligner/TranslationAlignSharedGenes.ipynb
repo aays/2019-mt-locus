{
 "cells": [
  {
   "cell_type": "markdown",
   "metadata": {},
   "source": [
    "# Align the genes common to the mt+ and mt- alleles\n",
    "\n",
    "### The code is adapted from\n",
    "sftp://hpcnode1.utm.utoronto.ca/home/nessrobe/scripts/bin/roanna_translation_aligner.py\n",
    "\n"
   ]
  },
  {
   "cell_type": "code",
   "execution_count": 1,
   "metadata": {},
   "outputs": [],
   "source": [
    "import glob,sys, signal\n",
    "from Bio import SeqIO \n",
    "from ness_fasta import ness_fasta\n",
    "\n",
    "\n",
    "def signal_handler(signum, frame):\n",
    "    raise Exception(\"Timed out!\")"
   ]
  },
  {
   "cell_type": "code",
   "execution_count": 4,
   "metadata": {},
   "outputs": [
    {
     "name": "stdout",
     "output_type": "stream",
     "text": [
      "55\n"
     ]
    }
   ],
   "source": [
    "files = glob.glob(\"../VCF2FASTA/*fasta\")\n",
    "loci={}\n",
    "for f in files:\n",
    "    g=f.split(\"/\")[-1].split(\".\")[0]\n",
    "    #print(g)\n",
    "    if g in loci:\n",
    "        loci[g].append(f)\n",
    "    else:\n",
    "        loci[g] = [f]\n",
    "\n",
    "for g in loci:\n",
    "    if len(loci[g])==1: print(g,'\\n\\t', loci[g])\n",
    "print(len(loci))"
   ]
  },
  {
   "cell_type": "code",
   "execution_count": null,
   "metadata": {},
   "outputs": [
    {
     "name": "stdout",
     "output_type": "stream",
     "text": [
      "Working on quebec gene PKY1...\n",
      "Working on quebec gene 522922...\n",
      "Working on quebec gene 182392...\n",
      "Working on quebec gene NIC7...\n",
      "Working on quebec gene 196063...\n",
      "Working on quebec gene 182394...\n",
      "Working on quebec gene 522918...\n",
      "Working on quebec gene 294742...\n",
      "Working on quebec gene LPS1...\n",
      "Working on quebec gene MT0618...\n",
      "Working on quebec gene CGLD28...\n",
      "Working on quebec gene 182390...\n",
      "Working on quebec gene 522915...\n",
      "Working on quebec gene PR46b...\n",
      "Working on quebec gene SPP3...\n",
      "Working on quebec gene HDH1...\n",
      "Working on quebec gene OTU2...\n",
      "Working on quebec gene SPS1...\n",
      "Working on quebec gene NMDA1...\n",
      "Working on quebec gene 522875...\n",
      "Working on quebec gene TOC34...\n",
      "Working on quebec gene SAD1...\n"
     ]
    }
   ],
   "source": [
    "shared = 0\n",
    "mtMinus = 0\n",
    "mtPlus = 0\n",
    "for g in loci.keys():\n",
    "    if len(loci[g]) ==2:\n",
    "        shared +=1\n",
    "        print(\"Working on quebec gene %s...\" %(g))\n",
    "        signal.signal(signal.SIGALRM, signal_handler)\n",
    "        signal.alarm(300)   # Ten seconds\n",
    "        with open('tmp.unaligned.fasta','w') as o:\n",
    "            o.write(open(loci[g][0]).read()+open(loci[g][-1]).read())\n",
    "        try:\n",
    "            quebec_aligned = ness_fasta.translation_aligner('tmp.unaligned.fasta', g+'.quebec_all', write=True)\n",
    "        except Exception as msg:\n",
    "            print(\"\\tGene %s timed out!\\n\" %(g)) \n",
    "    elif len(loci[g]) ==1 and 'mtMinus' in loci[g][0]:\n",
    "        mtMinus+=1\n",
    "        pass\n",
    "    elif len(loci[g]) ==1 and 'mtPlus' in loci[g][0]:\n",
    "        #plus only\n",
    "        mtPlus+=1\n",
    "        pass\n",
    "\n",
    "print(shared, mtMinus, mtPlus)\n"
   ]
  },
  {
   "cell_type": "code",
   "execution_count": 6,
   "metadata": {},
   "outputs": [],
   "source": [
    "!ls *tmp*"
   ]
  },
  {
   "cell_type": "code",
   "execution_count": null,
   "metadata": {},
   "outputs": [],
   "source": []
  }
 ],
 "metadata": {
  "jupytext": {},
  "kernelspec": {
   "display_name": "Python 3",
   "language": "python",
   "name": "python3"
  },
  "language_info": {
   "codemirror_mode": {
    "name": "ipython",
    "version": 3
   },
   "file_extension": ".py",
   "mimetype": "text/x-python",
   "name": "python",
   "nbconvert_exporter": "python",
   "pygments_lexer": "ipython3",
   "version": "3.5.1"
  }
 },
 "nbformat": 4,
 "nbformat_minor": 2
}
