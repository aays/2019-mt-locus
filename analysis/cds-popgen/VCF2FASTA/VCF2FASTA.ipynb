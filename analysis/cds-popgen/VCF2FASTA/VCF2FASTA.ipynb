{
 "cells": [
  {
   "cell_type": "markdown",
   "metadata": {},
   "source": [
    "# Create CDS FASTAS for each gene to allow alignment\n",
    "\n",
    "Using the mt-specfic vcfs based on mapping to references that have blanked regions we can call FASTAs to be used for translation alignment\n",
    "\n",
    "\n",
    "### This code is adapted from \n",
    "    /home/nessrobe/scripts/bin/Roanna_MT_gene_searcher.reMapped.singleMTs.py"
   ]
  },
  {
   "cell_type": "code",
   "execution_count": 1,
   "metadata": {},
   "outputs": [],
   "source": [
    "import sys, re, pickle, subprocess\n",
    "from annotation import GFF_line\n",
    "from collections import OrderedDict"
   ]
  },
  {
   "cell_type": "markdown",
   "metadata": {},
   "source": [
    "## Explore the genes"
   ]
  },
  {
   "cell_type": "markdown",
   "metadata": {},
   "source": [
    "## Parse common name translation"
   ]
  },
  {
   "cell_type": "code",
   "execution_count": 2,
   "metadata": {},
   "outputs": [],
   "source": [
    "from annotation import Transcript\n",
    "from Bio import SeqIO\n",
    "\n",
    "transcripts = Transcript.hash_gff('../find_shared_genes/mtRegions.GFF', index_label='ness_ID', quiet=True)\n",
    "ref_dict = SeqIO.to_dict(SeqIO.parse(open('/scratch/research/references/chlamydomonas/5.3_chlamy_w_organelles_mt_minus/chlamy.5.3.w_organelles_mtMinus.fasta'), 'fasta'))"
   ]
  },
  {
   "cell_type": "code",
   "execution_count": 53,
   "metadata": {},
   "outputs": [
    {
     "name": "stdout",
     "output_type": "stream",
     "text": [
      "C\t161193 ['C', '161193']\n",
      "C\t522917 ['C', '522917']\n"
     ]
    }
   ],
   "source": [
    "target_genes={}\n",
    "#target_genes={common_name:{transcripts:[], domain:'', ness_IDs: []}\n",
    "for l in open('../find_shared_genes/NameTranslation.txt').readlines()[1:]:\n",
    "    if len(l.strip().split('\\t'))==4:\n",
    "        domain, common_name, ch6NessID, mtMinusNessID = l.strip().split('\\t')\n",
    "        if ch6NessID == 'None':ch6NessID=None\n",
    "        if mtMinusNessID == 'None':mtMinusNessID=None\n",
    "    elif len(l.strip().split(\"\\t\")) ==3:\n",
    "        domain, common_name, ch6NessID = l.strip().split('\\t')\n",
    "        mtMinusNessID = None\n",
    "    else:print(l.strip(), l.strip().split('\\t'))\n",
    "    if domain in 'R T':\n",
    "        if mtMinusNessID == None or ch6NessID ==None:continue\n",
    "        target_genes[common_name] = {ch6NessID    :{'transcript':transcripts[ch6NessID],'domain':domain}, \\\n",
    "                                     mtMinusNessID:{'transcript':transcripts[mtMinusNessID],'domain':domain}}\n",
    "    elif domain == 'C':\n",
    "        if ch6NessID ==None:continue\n",
    "        target_genes[common_name] = {ch6NessID:{'transcript':transcripts[ch6NessID],'domain':domain}}\n",
    "    # Add CDSs and strand\n",
    "    for ness_ID in target_genes[common_name].keys():\n",
    "        #print(t)\n",
    "        t = target_genes[common_name][ness_ID]['transcript']\n",
    "        target_genes[common_name][ness_ID]['CDS'] = [[exon.start, exon.end] for exon in t.sorted_feats('CDS')]\n",
    "        target_genes[common_name][ness_ID]['strand'] = t.strand\n",
    "        target_genes[common_name][ness_ID]['chromosome'] = t.seqid\n",
    "                                         \n"
   ]
  },
  {
   "cell_type": "code",
   "execution_count": 54,
   "metadata": {},
   "outputs": [
    {
     "data": {
      "text/plain": [
       "{'26893429': {'CDS': [[431053, 431189],\n",
       "   [431523, 431868],\n",
       "   [432170, 432295],\n",
       "   [432503, 432572],\n",
       "   [432794, 432918],\n",
       "   [433206, 433444],\n",
       "   [433811, 433897],\n",
       "   [434078, 434186],\n",
       "   [434438, 434551],\n",
       "   [434852, 435022]],\n",
       "  'chromosome': 'chromosome_6',\n",
       "  'domain': 'R',\n",
       "  'strand': '-',\n",
       "  'transcript': <annotation.Transcript.Transcript at 0x7f39358e55c0>},\n",
       " 'ADF43177.1': {'CDS': [[175950, 176086],\n",
       "   [176415, 176772],\n",
       "   [177074, 177199],\n",
       "   [177407, 177476],\n",
       "   [177699, 177823],\n",
       "   [178104, 178342],\n",
       "   [178709, 178795],\n",
       "   [178974, 179082],\n",
       "   [179334, 179447],\n",
       "   [179766, 179936]],\n",
       "  'chromosome': 'mtMinus',\n",
       "  'domain': 'R',\n",
       "  'strand': '-',\n",
       "  'transcript': <annotation.Transcript.Transcript at 0x7f3935ec1198>}}"
      ]
     },
     "execution_count": 54,
     "metadata": {},
     "output_type": "execute_result"
    }
   ],
   "source": [
    "target_genes['PDK1']\n"
   ]
  },
  {
   "cell_type": "markdown",
   "metadata": {},
   "source": [
    "## Target Genotype Lists     \n",
    "### Plus\n",
    "- CC2936\n",
    "- CC2937\n",
    "- CC3060\n",
    "- CC3064\n",
    "- CC3065\n",
    "- CC3068\n",
    "- CC3071\n",
    "- CC3076\n",
    "- CC3086\n",
    "\n",
    "### Minus:\n",
    "- CC2935\n",
    "- CC2938\n",
    "- CC3059\n",
    "- CC3061\n",
    "- CC3062\n",
    "- CC3063\n",
    "- CC3073\n",
    "- CC3075\n",
    "- CC3079\n",
    "- CC3084\n"
   ]
  },
  {
   "cell_type": "code",
   "execution_count": 6,
   "metadata": {},
   "outputs": [],
   "source": [
    "# Target Genotype Lists\n",
    "que_mtPlus = \"CC2936 CC2937 CC3060 CC3064 CC3065 CC3068 CC3071 CC3076 CC3086\".split()\n",
    "que_mtMinus = \"CC2935 CC2938 CC3059 CC3061 CC3062 CC3063 CC3073 CC3075 CC3079 CC3084\".split()\n",
    "\n",
    "# Reference\n",
    "reference_fasta = '/scratch/research/references/chlamydomonas/5.3_chlamy_w_organelles_mt_minus/chlamy.5.3.w_organelles_mtMinus.fasta'\n",
    "\n",
    "# Overall VCFs\n",
    "quebec_vcf =  \"../../../data/references/all_quebec.HC.vcf.gz\"\n",
    "\n",
    "# MT Specific VCFs\n",
    "quebec_mtPLUS_vcf=\"../../../data/references/all_quebec.mtPlus.HC.vcf.gz\"\n",
    "quebec_mtMinus_vcf=\"../../../data/references/all_quebec.mtMinus.HC.vcf.gz\"\n",
    "\n",
    "reference_fasta = \"/scratch/research/references/chlamydomonas/5.3_chlamy_w_organelles_mt_minus/chlamy.5.3.w_organelles_mtMinus.fasta\""
   ]
  },
  {
   "cell_type": "markdown",
   "metadata": {},
   "source": [
    "T and R domain we expect two sets of fastas\n",
    "C domain we expect one\n",
    "\n",
    "We need the coords of the CDSs and the strand\n",
    "\n"
   ]
  },
  {
   "cell_type": "code",
   "execution_count": 75,
   "metadata": {},
   "outputs": [
    {
     "name": "stdout",
     "output_type": "stream",
     "text": [
      "mt+ T or R gene\n",
      "mt- T or R gene\n",
      "mt+ and mt- C domain gene\n",
      "mt+ and mt- C domain gene\n",
      "mt+ and mt- C domain gene\n",
      "mt+ T or R gene\n",
      "mt- T or R gene\n",
      "mt+ and mt- C domain gene\n",
      "mt+ T or R gene\n",
      "mt- T or R gene\n",
      "mt+ and mt- C domain gene\n",
      "mt+ T or R gene\n",
      "mt- T or R gene\n",
      "mt+ and mt- C domain gene\n",
      "mt+ and mt- C domain gene\n",
      "mt+ T or R gene\n",
      "mt- T or R gene\n",
      "mt- T or R gene\n",
      "mt+ T or R gene\n",
      "mt+ T or R gene\n",
      "mt- T or R gene\n",
      "mt+ T or R gene\n",
      "mt- T or R gene\n",
      "mt+ and mt- C domain gene\n",
      "mt- T or R gene\n",
      "mt+ T or R gene\n",
      "mt- T or R gene\n",
      "mt+ T or R gene\n",
      "mt+ T or R gene\n",
      "mt- T or R gene\n",
      "mt- T or R gene\n",
      "mt+ T or R gene\n",
      "mt+ and mt- C domain gene\n",
      "mt- T or R gene\n",
      "mt+ T or R gene\n",
      "mt- T or R gene\n",
      "mt+ T or R gene\n",
      "mt+ T or R gene\n",
      "mt- T or R gene\n",
      "mt+ T or R gene\n",
      "mt- T or R gene\n",
      "mt+ T or R gene\n",
      "mt- T or R gene\n",
      "mt+ and mt- C domain gene\n",
      "mt+ T or R gene\n",
      "mt- T or R gene\n",
      "mt+ T or R gene\n",
      "mt- T or R gene\n",
      "mt+ T or R gene\n",
      "mt- T or R gene\n",
      "mt+ T or R gene\n",
      "mt- T or R gene\n",
      "mt- T or R gene\n",
      "mt+ T or R gene\n",
      "mt- T or R gene\n",
      "mt+ T or R gene\n",
      "mt+ and mt- C domain gene\n",
      "mt+ T or R gene\n",
      "mt- T or R gene\n",
      "mt- T or R gene\n",
      "mt+ T or R gene\n",
      "mt+ T or R gene\n",
      "mt- T or R gene\n",
      "mt- T or R gene\n",
      "mt+ T or R gene\n",
      "mt+ and mt- C domain gene\n",
      "mt+ T or R gene\n",
      "mt- T or R gene\n",
      "mt+ T or R gene\n",
      "mt- T or R gene\n",
      "mt+ and mt- C domain gene\n",
      "mt+ T or R gene\n",
      "mt- T or R gene\n",
      "mt+ T or R gene\n",
      "mt- T or R gene\n",
      "mt+ and mt- C domain gene\n",
      "mt+ and mt- C domain gene\n",
      "mt- T or R gene\n",
      "mt+ T or R gene\n",
      "mt- T or R gene\n",
      "mt+ T or R gene\n",
      "mt+ and mt- C domain gene\n",
      "mt+ T or R gene\n",
      "mt- T or R gene\n",
      "mt+ and mt- C domain gene\n",
      "mt+ and mt- C domain gene\n",
      "mt+ T or R gene\n",
      "mt- T or R gene\n",
      "mt+ and mt- C domain gene\n",
      "mt- T or R gene\n",
      "mt+ T or R gene\n",
      "mt- T or R gene\n",
      "mt+ T or R gene\n"
     ]
    }
   ],
   "source": [
    "for common_name in target_genes:\n",
    "    for ness_id in target_genes[common_name]:\n",
    "        locus = target_genes[common_name][ness_id]\n",
    "        #break\n",
    "        cmds=[]\n",
    "        cds_string = \" \".join([\"%s:%i-%i\" %(locus['chromosome'],i[0], i[1]) for i in locus['CDS']])\n",
    "        if locus['chromosome'] == 'mtMinus': # ie if its mtMinus T or R\n",
    "            print(\"mt- T or R gene\")\n",
    "            if locus['strand'] == '-':\n",
    "                cmds.append(\"vcf2fasta.py -r %s --concatenate --reverse_complement -v %s -s %s -i %s >%s.%s.quebec_mtMinus.fasta\" %(reference_fasta, quebec_mtMinus_vcf, \" \".join(que_mtMinus), cds_string, common_name, ness_id))\n",
    "            else:\n",
    "                cmds.append(\"vcf2fasta.py -r %s --concatenate -v %s -s %s -i %s >%s.%s.quebec_mtMinus.fasta\" %(reference_fasta, quebec_mtMinus_vcf, \" \".join(que_mtMinus), cds_string, common_name,ness_id))\n",
    "        elif locus['domain'] in \"T R\" and locus['chromosome'] == 'chromosome_6': # This is mt+ genes\n",
    "            #print(common_name, locus['domain'], locus['chromosome'])\n",
    "            print(\"mt+ T or R gene\")\n",
    "            if locus['strand'] == '-':\n",
    "                cmds.append(\"vcf2fasta.py -r %s --concatenate --reverse_complement -v %s -s %s -i %s >%s.%s.quebec_mtPlus.fasta\" %(reference_fasta, quebec_mtPLUS_vcf, \" \".join(que_mtPlus), cds_string, common_name, ness_id))\n",
    "            else:\n",
    "                cmds.append(\"vcf2fasta.py -r %s --concatenate -v %s -s %s -i %s >%s.%s.quebec_mtPlus.fasta\" %(reference_fasta, quebec_mtPLUS_vcf, \" \".join(que_mtPlus), cds_string, common_name,ness_id))\n",
    "        elif locus['domain'] == \"C\" and locus['chromosome'] == 'chromosome_6': # This is mt+ or mt- C domain genes which are the same\n",
    "            print(\"mt+ and mt- C domain gene\")\n",
    "            if locus['strand'] == '-':\n",
    "                cmds.append(\"vcf2fasta.py -r %s --concatenate --reverse_complement -v %s -s %s -i %s >%s.%s.quebec_mtPlus.fasta\"  %(reference_fasta, quebec_vcf, \" \".join(que_mtPlus),  cds_string, common_name, ness_id))\n",
    "                cmds.append(\"vcf2fasta.py -r %s --concatenate --reverse_complement -v %s -s %s -i %s >%s.%s.quebec_mtMinus.fasta\" %(reference_fasta, quebec_vcf, \" \".join(que_mtMinus), cds_string, common_name, ness_id))\n",
    "            else:\n",
    "                cmds.append(\"vcf2fasta.py -r %s --concatenate -v %s -s %s -i %s >%s.%s.quebec_mtPlus.fasta\"  %(reference_fasta, quebec_vcf, \" \".join(que_mtPlus),  cds_string, common_name, ness_id))\n",
    "                cmds.append(\"vcf2fasta.py -r %s --concatenate -v %s -s %s -i %s >%s.%s.quebec_mtMinus.fasta\" %(reference_fasta, quebec_vcf, \" \".join(que_mtMinus), cds_string, common_name, ness_id))\n",
    "        for cmd in cmds:\n",
    "                child = subprocess.Popen(cmd, stderr=subprocess.PIPE, stdout=subprocess.PIPE, shell=True)\n",
    "        if len(child.communicate()[-1]) >1:\n",
    "            print(cmd, \"\\n\", child.communicate()[-1], \"\\n\\n\")  "
   ]
  },
  {
   "cell_type": "code",
   "execution_count": null,
   "metadata": {},
   "outputs": [],
   "source": [
    "j=0\n",
    "for n in found_ness_IDs:\n",
    "    cds_string = \" \".join([\"%s:%i-%i\" %(found_ness_IDs[n]['seqid'],i[0], i[1]) for i in found_ness_IDs[n]['CDSs']])\n",
    "    if n in name_translator:\n",
    "        common_name =  name_translator[n]\n",
    "    else:common_name = \"unknown_common_name\"\n",
    "    # common samples\n",
    "    if found_ness_IDs[n]['seqid'] == 'mtMinus':\n",
    "        \"\"\"eg.\n",
    "        vcf2fasta.py -r %s -v quebec_wt.vcf.gz -s CC3060 CC3064 CC3065 CC3068 CC3069 CC3071 CC3072 CC3076 CC3078 --concatenate \\\n",
    "         -i chromosome_6:481283-481427 chromosome_6:481485-481762 chromosome_6:481831-482049 chromosome_6:482108-482200 chromosome_6:482261-482369 chromosome_6:482428-482511 chromosome_6:482573-482779 chromosome_6:482838-482982 chromosome_6:483042-483169 chromosome_6:483695-484080 --reverse_complement\n",
    "        \"\"\"\n",
    "        if found_ness_IDs[n]['strand'] == '-':\n",
    "            cmd=\"vcf2fasta.py -r %s --concatenate --reverse_complement -v %s -s %s -i %s >%s.%s.quebec_mtMinus.fasta;wait\\n\\n\" %(reference_fasta, quebec_mtMinus_vcf, \" \".join(que_mtMinus), cds_string, common_name, n)\n",
    "        else:\n",
    "            cmd=\"vcf2fasta.py -r %s --concatenate -v %s -s %s -i %s >%s.%s.quebec_mtMinus.fasta;wait\\n\\n\" %(reference_fasta, quebec_mtMinus_vcf, \" \".join(que_mtMinus), cds_string, common_name,n)\n",
    "    elif found_ness_IDs[n]['seqid'] == 'chromosome_6':\n",
    "        if found_ness_IDs[n]['strand'] == '-':\n",
    "            cmd=\"vcf2fasta.py -r %s --concatenate --reverse_complement -v %s -s %s -i %s >%s.%s.quebec_mtPlus.fasta;wait\\n\\n\" %(reference_fasta, quebec_mtPLUS_vcf, \" \".join(que_mtPlus), cds_string, common_name,n)\n",
    "        else:\n",
    "            cmd=\"vcf2fasta.py -r %s --concatenate -v %s -s %s -i %s >%s.%s.quebec_mtPlus.fasta;wait\\n\\n\" %(reference_fasta, quebec_mtPLUS_vcf, \" \".join(que_mtPlus), cds_string, common_name,n)\n",
    "        # This block of code runs on C-region mtMinus genes because they are on CH6 not mtMinus reference. \n",
    "        if common_name in genes and genes[common_name]['region'] =='C': #the centromere region is not included in the minus allele reference fasta, so we are using those \n",
    "            if found_ness_IDs[n]['strand'] == '-':\n",
    "                cmd=\"vcf2fasta.py -r %s --concatenate --reverse_complement -v %s -s %s -i %s >%s.%s.quebec_mtMinus.fasta;wait\\n\\n\" %(reference_fasta, quebec_vcf, \" \".join(que_mtMinus), cds_string, common_name, n)\n",
    "            else:\n",
    "                cmd =\"vcf2fasta.py -r %s --concatenate -v %s -s %s -i %s >%s.%s.quebec_mtMinus.fasta;wait\\n\\n\" %(reference_fasta, quebec_vcf, \" \".join(que_mtMinus), cds_string, common_name,n)\n",
    "    j+=1\n",
    "    print(j)#,cmd)\n",
    "    child = subprocess.Popen(cmd, stderr=subprocess.PIPE, stdout=subprocess.PIPE, shell=True)\n",
    "    if len(child.communicate()[-1]) >1:\n",
    "        print(cmd, \"\\n\", child.communicate()[-1], \"\\n\\n\")"
   ]
  },
  {
   "cell_type": "markdown",
   "metadata": {},
   "source": [
    "# MT limited Genes\n",
    "The following code adapts the above code to get the mt Limited genes"
   ]
  },
  {
   "cell_type": "code",
   "execution_count": 4,
   "metadata": {},
   "outputs": [],
   "source": [
    "target_genes={}\n",
    "#target_genes={common_name:{transcripts:[], domain:'', ness_IDs: []}\n",
    "for l in open('../mtLimitedGenes/mtLimited.NameTranslation.txt'):\n",
    "    if len(l.strip().split())==3:\n",
    "        mtAllele, common_name, ness_ID = l.strip().split()\n",
    "    else:print(l.strip(), l.strip().split('\\t'))\n",
    "    target_genes[common_name] = {ness_ID    :{'transcript':transcripts[ness_ID],'mtAllele':mtAllele}}\n",
    "    for ness_ID in target_genes[common_name].keys():\n",
    "        #print(t)\n",
    "        t = target_genes[common_name][ness_ID]['transcript']\n",
    "        target_genes[common_name][ness_ID]['CDS'] = [[exon.start, exon.end] for exon in t.sorted_feats('CDS')]\n",
    "        target_genes[common_name][ness_ID]['strand'] = t.strand\n",
    "        target_genes[common_name][ness_ID]['chromosome'] = t.seqid\n",
    "                                         "
   ]
  },
  {
   "cell_type": "code",
   "execution_count": null,
   "metadata": {},
   "outputs": [],
   "source": [
    "for common_name in target_genes:\n",
    "    for ness_id in target_genes[common_name]:\n",
    "        locus = target_genes[common_name][ness_id]\n",
    "        cmds=[]\n",
    "        cds_string = \" \".join([\"%s:%i-%i\" %(locus['chromosome'],i[0], i[1]) for i in locus['CDS']])\n",
    "        if locus['chromosome'] == 'mtMinus' and locus['mtAllele'] == 'mtMinus': # ie if its mtMinus \n",
    "            print(\"mt- limited gene\")\n",
    "            if locus['strand'] == '-':\n",
    "                cmds.append(\"vcf2fasta.py -r %s --concatenate --reverse_complement -v %s -s %s -i %s >mtLimited/%s.%s.quebec_mtMinus.fasta\" %(reference_fasta, quebec_mtMinus_vcf, \" \".join(que_mtMinus), cds_string, common_name, ness_id))\n",
    "            else:\n",
    "                cmds.append(\"vcf2fasta.py -r %s --concatenate -v %s -s %s -i %s >mtLimited/%s.%s.quebec_mtMinus.fasta\" %(reference_fasta, quebec_mtMinus_vcf, \" \".join(que_mtMinus), cds_string, common_name,ness_id))\n",
    "        elif locus['chromosome'] == 'chromosome_6' and locus['mtAllele'] == 'mtPlus': # ie if its mtPlus\n",
    "            #print(common_name, locus['domain'], locus['chromosome'])\n",
    "            print(\"mt+ gene\")\n",
    "            if locus['strand'] == '-':\n",
    "                cmds.append(\"vcf2fasta.py -r %s --concatenate --reverse_complement -v %s -s %s -i %s >mtLimited/%s.%s.quebec_mtPlus.fasta\" %(reference_fasta, quebec_mtPLUS_vcf, \" \".join(que_mtPlus), cds_string, common_name, ness_id))\n",
    "            else:\n",
    "                cmds.append(\"vcf2fasta.py -r %s --concatenate -v %s -s %s -i %s >mtLimited/%s.%s.quebec_mtPlus.fasta\" %(reference_fasta, quebec_mtPLUS_vcf, \" \".join(que_mtPlus), cds_string, common_name,ness_id))\n",
    "        else:\n",
    "            print(\"Something weird\",common_name, ness_id, locus['chromosome'],locus['mtAllele'] )\n",
    "        for cmd in cmds:\n",
    "                print(cmd)\n",
    "                child = subprocess.Popen(cmd, stderr=subprocess.PIPE, stdout=subprocess.PIPE, shell=True)\n",
    "        if len(child.communicate()[-1]) >1:\n",
    "            print(cmd, \"\\n\", child.communicate()[-1], \"\\n\\n\")  "
   ]
  },
  {
   "cell_type": "markdown",
   "metadata": {},
   "source": [
    "# Random Genes\n",
    "The following code adapts the above code to get other ch6 genes\n",
    "\n",
    "THe mtPlus allele runs in line with mtMinus sequence here:\n",
    "\n",
    "    chromosome_6:298299-826737\n",
    "    \n",
    "But the C terminus ends with MAT3 \n",
    "\n",
    "    chromosome_6\tphytozome8_0\tmRNA\t937146\t943474\t.\t+\t.\tID=PAC:26893469;Name=Cre06.g255450.t1.3;pacid=26893469;longest=1;geneName=MAT3;Parent=Cre06.g255450;ness_ID=26893469\n",
    "\n",
    "So we want transcripts before 298299 or after 943474"
   ]
  },
  {
   "cell_type": "code",
   "execution_count": 12,
   "metadata": {},
   "outputs": [
    {
     "name": "stdout",
     "output_type": "stream",
     "text": [
      "chromosome_6\tphytozome8_0\tmRNA\t937146\t943474\t.\t+\t.\tID=PAC:26893469;Name=Cre06.g255450.t1.3;pacid=26893469;longest=1;geneName=MAT3;Parent=Cre06.g255450;ness_ID=26893469\n"
     ]
    }
   ],
   "source": [
    "!grep MAT3 ../find_shared_genes/mtRegions.GFF\n"
   ]
  },
  {
   "cell_type": "code",
   "execution_count": 3,
   "metadata": {},
   "outputs": [],
   "source": [
    "transcripts = Transcript.hash_gff('/scratch/research/references/chlamydomonas/5.3_chlamy_w_organelles_mt_minus/annotation/concatenated_GFF/final.strict.GFF3', index_label='ness_ID', quiet=True)"
   ]
  },
  {
   "cell_type": "code",
   "execution_count": 18,
   "metadata": {},
   "outputs": [
    {
     "name": "stdout",
     "output_type": "stream",
     "text": [
      "1613\n"
     ]
    }
   ],
   "source": [
    "ch6_transcripts = {}\n",
    "for ness_id in transcripts:\n",
    "    t = transcripts[ness_id]\n",
    "    if t.seqid == \"chromosome_6\" and (t.end < 298299 or t.start > 943474):\n",
    "        ch6_transcripts[ness_id] = t\n",
    "print(len(ch6_transcripts))"
   ]
  },
  {
   "cell_type": "code",
   "execution_count": 4,
   "metadata": {},
   "outputs": [
    {
     "name": "stdout",
     "output_type": "stream",
     "text": [
      "1000\n"
     ]
    }
   ],
   "source": [
    "import random\n",
    "all_ness_ids = list(transcripts.keys())\n",
    "random.shuffle(all_ness_ids)\n",
    "random_transcripts = {}\n",
    "for ness_id in all_ness_ids:\n",
    "    t = transcripts[ness_id]\n",
    "    if t.seqid == \"chromosome_6\":\n",
    "        continue\n",
    "    elif \"chromosome\" in t.seqid:\n",
    "        random_transcripts[ness_id] = t\n",
    "    if len(random_transcripts) >=1000:\n",
    "        break\n",
    "    \n",
    "print(len(random_transcripts))"
   ]
  },
  {
   "cell_type": "code",
   "execution_count": null,
   "metadata": {},
   "outputs": [],
   "source": [
    "for ness_id in ch6_transcripts:\n",
    "    t = ch6_transcripts[ness_id]\n",
    "    CDSs = [[exon.start, exon.end] for exon in t.sorted_feats('CDS')]\n",
    "    cmds=[]\n",
    "    cds_string = \" \".join([\"%s:%i-%i\" %(t.seqid,i[0], i[1]) for i in CDSs])\n",
    "    if t.strand == '-':\n",
    "        cmds.append(\"vcf2fasta.py -r %s --concatenate --reverse_complement -v %s -s %s -i %s >chromosome_6/%s.all_quebec.fasta\" %(reference_fasta, quebec_vcf, \" \".join(que_mtMinus+que_mtPlus), cds_string, ness_id))\n",
    "    elif t.strand == '+':\n",
    "        cmds.append(\"vcf2fasta.py -r %s --concatenate                      -v %s -s %s -i %s >chromosome_6/%s.all_quebec.fasta\" %(reference_fasta, quebec_vcf, \" \".join(que_mtMinus+que_mtPlus), cds_string, ness_id))\n",
    "    else:\n",
    "        print(\"Something weird\", ness_id, t.seqid)\n",
    "    for cmd in cmds:\n",
    "        #print(cmd)\n",
    "        child = subprocess.Popen(cmd, stderr=subprocess.PIPE, stdout=subprocess.PIPE, shell=True)\n",
    "    if len(child.communicate()[-1]) >1:\n",
    "        print(cmd, \"\\n\", child.communicate()[-1], \"\\n\\n\")  "
   ]
  },
  {
   "cell_type": "code",
   "execution_count": null,
   "metadata": {},
   "outputs": [
    {
     "name": "stdout",
     "output_type": "stream",
     "text": [
      "10\n",
      "20\n",
      "30\n",
      "40\n",
      "50\n",
      "60\n",
      "70\n"
     ]
    }
   ],
   "source": [
    "i=0\n",
    "for ness_id in random_transcripts:\n",
    "    t = random_transcripts[ness_id]\n",
    "    CDSs = [[exon.start, exon.end] for exon in t.sorted_feats('CDS')]\n",
    "    cmds=[]\n",
    "    cds_string = \" \".join([\"%s:%i-%i\" %(t.seqid,i[0], i[1]) for i in CDSs])\n",
    "    if t.strand == '-':\n",
    "        cmds.append(\"vcf2fasta.py -r %s --concatenate --reverse_complement -v %s -s %s -i %s >random_transcripts2/%s.all_quebec.fasta\" %(reference_fasta, quebec_vcf, \" \".join(que_mtMinus+que_mtPlus), cds_string, ness_id))\n",
    "    elif t.strand == '+':\n",
    "        cmds.append(\"vcf2fasta.py -r %s --concatenate                      -v %s -s %s -i %s >random_transcripts2/%s.all_quebec.fasta\" %(reference_fasta, quebec_vcf, \" \".join(que_mtMinus+que_mtPlus), cds_string, ness_id))\n",
    "    else:\n",
    "        print(\"Something weird\", ness_id, t.seqid)\n",
    "    for cmd in cmds:\n",
    "        #print(cmd)\n",
    "        child = subprocess.Popen(cmd, stderr=subprocess.PIPE, stdout=subprocess.PIPE, shell=True)\n",
    "    if len(child.communicate()[-1]) >1:\n",
    "        print(cmd, \"\\n\", child.communicate()[-1], \"\\n\\n\")  \n",
    "    i+=1\n",
    "    if i%10 ==0:print(i)"
   ]
  },
  {
   "cell_type": "code",
   "execution_count": null,
   "metadata": {},
   "outputs": [],
   "source": []
  }
 ],
 "metadata": {
  "kernelspec": {
   "display_name": "Python 3",
   "language": "python",
   "name": "python3"
  },
  "language_info": {
   "codemirror_mode": {
    "name": "ipython",
    "version": 3
   },
   "file_extension": ".py",
   "mimetype": "text/x-python",
   "name": "python",
   "nbconvert_exporter": "python",
   "pygments_lexer": "ipython3",
   "version": "3.5.1"
  }
 },
 "nbformat": 4,
 "nbformat_minor": 2
}
