{
 "cells": [
  {
   "cell_type": "markdown",
   "metadata": {},
   "source": [
    "# Find Shared Genes\n",
    "\n",
    "\n",
    "Multiple Steps were taken to find shared gene pairs:   \n",
    "\n",
    "  1. reciprocal best BLAST\n",
    "  2. Use deHoff et al table S4 to get equate common names with v4 gene IDs (Cre06.gXYZ) and use those gene IDs to find v5.3 Gene IDs and then associate them with the ness_ID\n",
    "  3. for the last few remaining we can infer the gene based on the position relative to other known genes.\n",
    "  \n",
    "  \n",
    "### The result of all this has been manually collated into a table `NameTranslation.txt`"
   ]
  },
  {
   "cell_type": "markdown",
   "metadata": {},
   "source": [
    "Extract all CDS in ch6 and mtminus mt Loci\n",
    "\n",
    "Run recirpocal BBLAST to ID orthologs\n",
    "\n",
    "get transcripts - outout CDS fastas for BLAST\n",
    "\n",
    "ch6 mt region runs from NIC7 (chromosome_6:336959-344444) to MAT3  (chromosome_6:937146-943474)"
   ]
  },
  {
   "cell_type": "code",
   "execution_count": null,
   "metadata": {},
   "outputs": [],
   "source": [
    "%%bash\n",
    "# bgzip -c  ../VCF2FASTA/mini_gff.gff >mini_gff.gff.gz\n",
    "# tabix -p gff mini_gff.gff.gz\n",
    "tabix mini_gff.gff.gz chromosome_6:336949-943475 mtMinus >mtRegions.GFF"
   ]
  },
  {
   "cell_type": "code",
   "execution_count": null,
   "metadata": {},
   "outputs": [],
   "source": [
    "!grep \"chromosome_6\" mtRegions.GFF |tail -n 50\n"
   ]
  },
  {
   "cell_type": "code",
   "execution_count": 1,
   "metadata": {},
   "outputs": [],
   "source": [
    "from annotation import Transcript\n",
    "from Bio import SeqIO\n",
    "from annotation import GFF_line"
   ]
  },
  {
   "cell_type": "code",
   "execution_count": null,
   "metadata": {},
   "outputs": [],
   "source": [
    "transcripts = Transcript.hash_gff('mtRegions.GFF', index_label='ness_ID', quiet=True)"
   ]
  },
  {
   "cell_type": "code",
   "execution_count": null,
   "metadata": {},
   "outputs": [],
   "source": [
    "ref_dict = SeqIO.to_dict(SeqIO.parse(open('/scratch/research/references/chlamydomonas/5.3_chlamy_w_organelles_mt_minus/chlamy.5.3.w_organelles_mtMinus.fasta'), 'fasta'))"
   ]
  },
  {
   "cell_type": "code",
   "execution_count": null,
   "metadata": {},
   "outputs": [],
   "source": [
    "oMinus = open('mtMinus_CDS.fasta', 'w')\n",
    "oPlus = open('mtPlus_CDS.fasta', 'w')\n",
    "for ness_id in transcripts:\n",
    "    t=transcripts[ness_id]\n",
    "    cds = \"\".join(t.cds(ref_dict))\n",
    "    if t.seqid == 'chromosome_6':\n",
    "        oPlus.write(\">%s\\n%s\\n\" %(ness_id, cds))\n",
    "    elif t.seqid == 'mtMinus':\n",
    "        oMinus.write(\">%s\\n%s\\n\" %(ness_id, cds))\n",
    "    else: print('WTF',t.seqid, ness_id)\n",
    "oMinus.close()\n",
    "oPlus.close()\n",
    "        \n",
    "        \n",
    "    "
   ]
  },
  {
   "cell_type": "code",
   "execution_count": null,
   "metadata": {},
   "outputs": [],
   "source": [
    "%%bash\n",
    "\n",
    "blastn \\\n",
    "-num_alignments 1 \\\n",
    "-max_hsps 1 \\\n",
    "-evalue 1e-10 \\\n",
    "-query mtMinus_CDS.fasta \\\n",
    "-subject mtPlus_CDS.fasta \\\n",
    "-out Minus_vs_Plus.txt \\\n",
    "-outfmt \"6 qseqid sseqid pident length mismatch gapopen qstart qend sstart send evalue bitscore qcovs qcovhsp\""
   ]
  },
  {
   "cell_type": "code",
   "execution_count": null,
   "metadata": {},
   "outputs": [],
   "source": [
    "%%bash\n",
    "\n",
    "blastn \\\n",
    "-num_alignments 1 \\\n",
    "-max_hsps 1 \\\n",
    "-evalue 1e-10 \\\n",
    "-query mtPlus_CDS.fasta \\\n",
    "-subject mtMinus_CDS.fasta \\\n",
    "-out Plus_vs_Minus.txt \\\n",
    "-outfmt \"6 qseqid sseqid pident length mismatch gapopen qstart qend sstart send evalue bitscore qcovs qcovhsp\""
   ]
  },
  {
   "cell_type": "code",
   "execution_count": 3,
   "metadata": {},
   "outputs": [],
   "source": [
    "def line_parser(line, sep=None):\n",
    "    parsed=[]\n",
    "    for i in line.strip().split(sep):\n",
    "        try:\n",
    "            float(i)\n",
    "            pass\n",
    "        except ValueError:\n",
    "            parsed.append(i)\n",
    "            continue\n",
    "        if \".\" in i or 'e' in i:\n",
    "            parsed.append(float(i))\n",
    "        else:\n",
    "            parsed.append(int(i))\n",
    "    return(parsed)"
   ]
  },
  {
   "cell_type": "code",
   "execution_count": 4,
   "metadata": {},
   "outputs": [
    {
     "name": "stdout",
     "output_type": "stream",
     "text": [
      "26893063\tADF43181.1\t98.738\t951\t12\t0\t3367\t4317\t1\t951\t0.0\t1690\t22\t22\n",
      "\n",
      "26893603\tADF43181.1\t98.633\t951\t13\t0\t3319\t4269\t1\t951\t0.0\t1685\t22\t22\n",
      "\n"
     ]
    }
   ],
   "source": [
    "p2m = {}\n",
    "for l in open('Plus_vs_Minus.txt'):\n",
    "    qseqid, sseqid, pident, length, mismatch, \\\n",
    "    gapopen, qstart, qend, sstart, send, \\\n",
    "    evalue, bitscore, qcovs, qcovhsp = line_parser(l, sep=\"\\t\")\n",
    "    qseqid =str(qseqid)\n",
    "    if pident >80 and qcovs >25:\n",
    "        pass\n",
    "        #print(qseqid, sseqid)\n",
    "    else:print(l)\n",
    "    if qseqid not in p2m:\n",
    "        p2m[qseqid] = [sseqid, pident, qcovs]\n",
    "    else: print(l)"
   ]
  },
  {
   "cell_type": "code",
   "execution_count": 5,
   "metadata": {},
   "outputs": [
    {
     "name": "stdout",
     "output_type": "stream",
     "text": [
      "ADF43176.1 ['26893261', 96.949, 28]\n",
      "ADF43179.1 ['26894262', 99.732, 100]\n",
      "ADF43159.1 ['26894744', 98.663, 92]\n",
      "ADF43197.1 ['26893801', 99.866, 100]\n",
      "ADF43162.1 ['26894689', 99.288, 100]\n",
      "ADF43166.1 ['26893360', 99.199, 100]\n",
      "ADF43188.1 ['26893651', 99.479, 43]\n",
      "ADF43180.1 ['26893070', 99.422, 97]\n",
      "ADF43187.1 ['26893524', 98.494, 100]\n",
      "ADF43172.1 ['26894098', 98.278, 100]\n",
      "ADF43196.1 ['26893033', 99.33, 94]\n",
      "ADF43169.1 ['26893622', 98.189, 99]\n",
      "ADF43189.1 ['26894226', 98.063, 98]\n",
      "ADF43177.1 ['26893429', 98.242, 100]\n",
      "ADF43178.1 ['26893660', 99.407, 100]\n",
      "ADF43164.1 ['26893557', 98.81, 87]\n",
      "ADF43199.1 ['26893348', 92.982, 46]\n",
      "ADF43168.1 ['26894643', 98.166, 84]\n",
      "ADF43170.1 ['26893973', 99.592, 100]\n",
      "ADF43181.1 ['26893063', 98.738, 100]\n",
      "ADF43194.1 ['26893073', 98.915, 100]\n",
      "ADF43167.1 ['26894285', 99.02, 49]\n",
      "ADF43173.1 ['26893370', 99.338, 93]\n",
      "ADF43182.1 ['26893603', 98.175, 72]\n",
      "ADF43161.1 ['26893872', 96.101, 82]\n",
      "ADF43184.1 ['26893059', 99.077, 40]\n",
      "ADF43174.1 ['26894095', 97.739, 100]\n",
      "ADF43183.1 ['26893603', 98.654, 90]\n",
      "ADF43171.1 ['26893178', 99.145, 100]\n",
      "ADF43175.1 ['26894494', 97.83, 99]\n",
      "ADF43186.1 ['26893232', 99.583, 100]\n",
      "ADF43165.1 ['26894333', 98.862, 100]\n",
      "ADF43163.1 ['26893647', 98.388, 100]\n",
      "ADF43198.1 ['26893219', 99.773, 100]\n",
      "ADF43195.1 ['26894294', 98.843, 100]\n",
      "ADF43160.1 ['26893181', 99.259, 100]\n",
      "ADF43192.1 ['26894082', 98.471, 99]\n",
      "ADF43191.1 ['26894462', 99.017, 100]\n",
      "___________________________\n",
      "26893651 ['ADF43188.1', 99.479, 37]\n",
      "26894285 ['ADF43167.1', 99.02, 100]\n",
      "26893429 ['ADF43177.1', 98.242, 100]\n",
      "26894494 ['ADF43175.1', 97.83, 99]\n",
      "26893070 ['ADF43180.1', 99.422, 100]\n",
      "26893973 ['ADF43170.1', 99.592, 100]\n",
      "26893348 ['ADF43199.1', 92.982, 98]\n",
      "26893073 ['ADF43194.1', 98.915, 100]\n",
      "26893647 ['ADF43163.1', 98.388, 100]\n",
      "26893595 ['ADF43181.1', 97.973, 80]\n",
      "26893063 ['ADF43181.1', 98.738, 22]\n",
      "26893801 ['ADF43197.1', 99.866, 100]\n",
      "26894628 ['ADF43181.1', 98.52, 95]\n",
      "26893178 ['ADF43171.1', 99.145, 100]\n",
      "26893524 ['ADF43187.1', 98.494, 100]\n",
      "26893622 ['ADF43169.1', 98.189, 65]\n",
      "26894333 ['ADF43165.1', 98.862, 100]\n",
      "26893659 ['ADF43178.1', 99.407, 100]\n",
      "26894095 ['ADF43174.1', 97.739, 100]\n",
      "26893033 ['ADF43196.1', 99.33, 70]\n",
      "26894082 ['ADF43192.1', 98.471, 43]\n",
      "26893497 ['ADF43181.1', 98.65, 99]\n",
      "26893557 ['ADF43164.1', 98.81, 100]\n",
      "26893602 ['ADF43181.1', 98.385, 95]\n",
      "26893370 ['ADF43173.1', 99.338, 100]\n",
      "26893219 ['ADF43198.1', 99.773, 100]\n",
      "26894262 ['ADF43179.1', 99.732, 100]\n",
      "26894744 ['ADF43159.1', 98.663, 85]\n",
      "26893603 ['ADF43181.1', 98.633, 22]\n",
      "26894232 ['ADF43184.1', 99.077, 89]\n",
      "26894462 ['ADF43191.1', 99.017, 100]\n",
      "26893872 ['ADF43161.1', 96.101, 75]\n",
      "26893800 ['ADF43184.1', 97.696, 81]\n",
      "26894214 ['ADF43181.1', 98.654, 95]\n",
      "26894098 ['ADF43172.1', 98.278, 100]\n",
      "26894226 ['ADF43189.1', 98.063, 76]\n",
      "26893261 ['ADF43176.1', 96.949, 37]\n",
      "26893660 ['ADF43178.1', 99.407, 100]\n",
      "26894493 ['ADF43175.1', 97.594, 99]\n",
      "26894294 ['ADF43195.1', 98.843, 100]\n",
      "26893181 ['ADF43160.1', 99.259, 100]\n",
      "26893232 ['ADF43186.1', 99.583, 100]\n",
      "26893360 ['ADF43166.1', 99.199, 100]\n",
      "26894689 ['ADF43162.1', 99.288, 100]\n",
      "26893059 ['ADF43184.1', 99.077, 89]\n",
      "26894643 ['ADF43168.1', 98.166, 100]\n"
     ]
    }
   ],
   "source": [
    "m2p = {}\n",
    "for l in open('Minus_vs_Plus.txt'):\n",
    "    qseqid, sseqid, pident, length, mismatch, \\\n",
    "    gapopen, qstart, qend, sstart, send, \\\n",
    "    evalue, bitscore, qcovs, qcovhsp = line_parser(l, sep=\"\\t\")\n",
    "    sseqid =str(sseqid)\n",
    "    if pident >80 and qcovs >25:\n",
    "        #print(qseqid, sseqid)\n",
    "        pass\n",
    "    else:print(l)\n",
    "    if qseqid not in p2m:\n",
    "        m2p[qseqid] = [sseqid, pident, qcovs]\n",
    "    else: print(l)\n",
    "\n",
    "for m,p in m2p.items():\n",
    "    print(m,p)\n",
    "\n",
    "print(\"___________________________\")\n",
    "for p,m in p2m.items():\n",
    "    print(p,m)"
   ]
  },
  {
   "cell_type": "code",
   "execution_count": 6,
   "metadata": {},
   "outputs": [
    {
     "name": "stdout",
     "output_type": "stream",
     "text": [
      "pair: ['26893261', 96.949, 28] ADF43176.1\n",
      "pair: ['26894262', 99.732, 100] ADF43179.1\n",
      "pair: ['26894744', 98.663, 92] ADF43159.1\n",
      "pair: ['26893801', 99.866, 100] ADF43197.1\n",
      "pair: ['26894689', 99.288, 100] ADF43162.1\n",
      "pair: ['26893360', 99.199, 100] ADF43166.1\n",
      "pair: ['26893651', 99.479, 43] ADF43188.1\n",
      "pair: ['26893070', 99.422, 97] ADF43180.1\n",
      "pair: ['26893524', 98.494, 100] ADF43187.1\n",
      "pair: ['26894098', 98.278, 100] ADF43172.1\n",
      "pair: ['26893033', 99.33, 94] ADF43196.1\n",
      "pair: ['26893622', 98.189, 99] ADF43169.1\n",
      "pair: ['26894226', 98.063, 98] ADF43189.1\n",
      "pair: ['26893429', 98.242, 100] ADF43177.1\n",
      "pair: ['26893660', 99.407, 100] ADF43178.1\n",
      "pair: ['26893557', 98.81, 87] ADF43164.1\n",
      "pair: ['26893348', 92.982, 46] ADF43199.1\n",
      "pair: ['26894643', 98.166, 84] ADF43168.1\n",
      "pair: ['26893973', 99.592, 100] ADF43170.1\n",
      "pair: ['26893063', 98.738, 100] ADF43181.1\n",
      "pair: ['26893073', 98.915, 100] ADF43194.1\n",
      "pair: ['26894285', 99.02, 49] ADF43167.1\n",
      "pair: ['26893370', 99.338, 93] ADF43173.1\n",
      "pair: ['26893872', 96.101, 82] ADF43161.1\n",
      "pair: ['26893059', 99.077, 40] ADF43184.1\n",
      "pair: ['26894095', 97.739, 100] ADF43174.1\n",
      "pair: ['26893178', 99.145, 100] ADF43171.1\n",
      "pair: ['26894494', 97.83, 99] ADF43175.1\n",
      "pair: ['26893232', 99.583, 100] ADF43186.1\n",
      "pair: ['26894333', 98.862, 100] ADF43165.1\n",
      "pair: ['26893647', 98.388, 100] ADF43163.1\n",
      "pair: ['26893219', 99.773, 100] ADF43198.1\n",
      "pair: ['26894294', 98.843, 100] ADF43195.1\n",
      "pair: ['26893181', 99.259, 100] ADF43160.1\n",
      "pair: ['26894082', 98.471, 99] ADF43192.1\n",
      "pair: ['26894462', 99.017, 100] ADF43191.1\n",
      "36\n"
     ]
    }
   ],
   "source": [
    "pairs = []\n",
    "for m,p in m2p.items():\n",
    "    if p[0] in list(p2m.keys()) and p2m[p[0]][0] == m:\n",
    "        print(\"pair:\", p,m)\n",
    "        pairs.append([p[0],m])\n",
    "print(len(pairs))    "
   ]
  },
  {
   "cell_type": "code",
   "execution_count": 7,
   "metadata": {},
   "outputs": [
    {
     "name": "stdout",
     "output_type": "stream",
     "text": [
      "26893261 ADF43176.1\n",
      "26894262 ADF43179.1\n",
      "26894744 ADF43159.1\n",
      "26893801 ADF43197.1\n",
      "26894689 ADF43162.1\n",
      "26893360 ADF43166.1\n",
      "26893651 ADF43188.1\n",
      "26893070 ADF43180.1\n",
      "26893524 ADF43187.1\n",
      "26894098 ADF43172.1\n",
      "26893033 ADF43196.1\n",
      "26893622 ADF43169.1\n",
      "26894226 ADF43189.1\n",
      "26893429 ADF43177.1\n",
      "26893660 ADF43178.1\n",
      "26893557 ADF43164.1\n",
      "26893348 ADF43199.1\n",
      "26894643 ADF43168.1\n",
      "26893973 ADF43170.1\n",
      "26893063 ADF43181.1\n",
      "26893073 ADF43194.1\n",
      "26894285 ADF43167.1\n",
      "26893370 ADF43173.1\n",
      "26893872 ADF43161.1\n",
      "26893059 ADF43184.1\n",
      "26894095 ADF43174.1\n",
      "26893178 ADF43171.1\n",
      "26894494 ADF43175.1\n",
      "26893232 ADF43186.1\n",
      "26894333 ADF43165.1\n",
      "26893647 ADF43163.1\n",
      "26893219 ADF43198.1\n",
      "26894294 ADF43195.1\n",
      "26893181 ADF43160.1\n",
      "26894082 ADF43192.1\n",
      "26894462 ADF43191.1\n"
     ]
    }
   ],
   "source": [
    "for p in pairs:\n",
    "    print(p[0], p[1])"
   ]
  },
  {
   "cell_type": "code",
   "execution_count": 8,
   "metadata": {},
   "outputs": [
    {
     "name": "stdout",
     "output_type": "stream",
     "text": [
      "['ADF43176.1', 96.949, 37] ['26893261', 96.949, 28]\n",
      "['ADF43199.1', 92.982, 98] ['26893348', 92.982, 46]\n",
      "['ADF43184.1', 99.077, 89] ['26893059', 99.077, 40]\n",
      "['ADF43167.1', 99.02, 100] ['26894285', 99.02, 49]\n",
      "['ADF43188.1', 99.479, 37] ['26893651', 99.479, 43]\n"
     ]
    }
   ],
   "source": [
    "# these are the ones with low qcovs in one direction:\n",
    "for i in \"26893261 26893348 26893059 26894285 26893651\".split():\n",
    "    p, m = i, p2m[i][0]\n",
    "    print(p2m[p], m2p[m])"
   ]
  },
  {
   "cell_type": "markdown",
   "metadata": {},
   "source": [
    "# After all this tjere are two reciprocal best blast hits that are low \"coverage\" in both directions.\n",
    "\n",
    "The pair ADF43176.1' and '26893261' are 37% hit p2m and 43 m2p\n",
    "\n",
    "    ['ADF43188.1', 99.479, 37] ['26893651', 99.479, 43]\n",
    "\n",
    "This corresponds to the gene \"MADS2m\" which according to deHoff is on both CHs in the rearranged region on an inversion\n",
    "So lets keep it and carry on"
   ]
  },
  {
   "cell_type": "code",
   "execution_count": 9,
   "metadata": {},
   "outputs": [
    {
     "name": "stdout",
     "output_type": "stream",
     "text": [
      "mtMinus\tfeature\tgene\t251374\t254600\t.\t+\t.\tgene=MADS2m;ness_ID=ADF43188.1;ID=ADF43188.1;Name=ADF43188.1\n",
      "mtMinus\tfeature\tCDS\t251374\t251520\t.\t+\t0\tness_ID=ADF43188.1;ID=ADF43188.1.CDS.1;Parent=ADF43188.1;Name=ADF43188.1\n",
      "mtMinus\tfeature\tCDS\t251775\t251864\t.\t+\t0\tness_ID=ADF43188.1;ID=ADF43188.1.CDS.2;Parent=ADF43188.1;Name=ADF43188.1\n",
      "mtMinus\tfeature\tCDS\t252011\t252151\t.\t+\t0\tness_ID=ADF43188.1;ID=ADF43188.1.CDS.3;Parent=ADF43188.1;Name=ADF43188.1\n",
      "mtMinus\tfeature\tCDS\t252330\t252735\t.\t+\t0\tness_ID=ADF43188.1;ID=ADF43188.1.CDS.4;Parent=ADF43188.1;Name=ADF43188.1\n",
      "mtMinus\tfeature\tCDS\t253014\t253039\t.\t+\t0\tness_ID=ADF43188.1;ID=ADF43188.1.CDS.5;Parent=ADF43188.1;Name=ADF43188.1\n",
      "mtMinus\tfeature\tCDS\t253101\t253458\t.\t+\t0\tness_ID=ADF43188.1;ID=ADF43188.1.CDS.6;Parent=ADF43188.1;Name=ADF43188.1\n",
      "mtMinus\tfeature\tCDS\t253779\t254089\t.\t+\t0\tness_ID=ADF43188.1;ID=ADF43188.1.CDS.7;Parent=ADF43188.1;Name=ADF43188.1\n",
      "mtMinus\tfeature\tCDS\t254286\t254600\t.\t+\t0\tness_ID=ADF43188.1;ID=ADF43188.1.CDS.8;Parent=ADF43188.1;Name=ADF43188.1\n"
     ]
    }
   ],
   "source": [
    "! zgrep \"ADF43188.1\" mini_gff.gff.gz"
   ]
  },
  {
   "cell_type": "markdown",
   "metadata": {},
   "source": [
    " - The other pair is \n",
    "    ['ADF43176.1', 96.949, 37] ['26893261', 96.949, 28]\n",
    "Which corresponds to \"LPS1m\" which is also in the R domain and itself inverted  along with 522875. "
   ]
  },
  {
   "cell_type": "code",
   "execution_count": 10,
   "metadata": {},
   "outputs": [
    {
     "name": "stdout",
     "output_type": "stream",
     "text": [
      "mtMinus\tfeature\tgene\t139144\t171097\t.\t+\t.\tgene=LPS1m;ness_ID=ADF43176.1;ID=ADF43176.1;Name=ADF43176.1\n",
      "mtMinus\tfeature\tCDS\t139144\t139302\t.\t+\t0\tness_ID=ADF43176.1;ID=ADF43176.1.CDS.1;Parent=ADF43176.1;Name=ADF43176.1\n",
      "mtMinus\tfeature\tCDS\t139385\t139492\t.\t+\t0\tness_ID=ADF43176.1;ID=ADF43176.1.CDS.2;Parent=ADF43176.1;Name=ADF43176.1\n",
      "mtMinus\tfeature\tCDS\t141363\t141576\t.\t+\t0\tness_ID=ADF43176.1;ID=ADF43176.1.CDS.3;Parent=ADF43176.1;Name=ADF43176.1\n",
      "mtMinus\tfeature\tCDS\t145283\t145554\t.\t+\t0\tness_ID=ADF43176.1;ID=ADF43176.1.CDS.4;Parent=ADF43176.1;Name=ADF43176.1\n",
      "mtMinus\tfeature\tCDS\t145692\t145783\t.\t+\t0\tness_ID=ADF43176.1;ID=ADF43176.1.CDS.5;Parent=ADF43176.1;Name=ADF43176.1\n",
      "mtMinus\tfeature\tCDS\t145881\t145935\t.\t+\t0\tness_ID=ADF43176.1;ID=ADF43176.1.CDS.6;Parent=ADF43176.1;Name=ADF43176.1\n",
      "mtMinus\tfeature\tCDS\t153198\t153275\t.\t+\t0\tness_ID=ADF43176.1;ID=ADF43176.1.CDS.7;Parent=ADF43176.1;Name=ADF43176.1\n",
      "mtMinus\tfeature\tCDS\t155812\t156084\t.\t+\t0\tness_ID=ADF43176.1;ID=ADF43176.1.CDS.8;Parent=ADF43176.1;Name=ADF43176.1\n",
      "mtMinus\tfeature\tCDS\t162622\t162678\t.\t+\t0\tness_ID=ADF43176.1;ID=ADF43176.1.CDS.9;Parent=ADF43176.1;Name=ADF43176.1\n",
      "mtMinus\tfeature\tCDS\t162790\t162855\t.\t+\t0\tness_ID=ADF43176.1;ID=ADF43176.1.CDS.10;Parent=ADF43176.1;Name=ADF43176.1\n",
      "mtMinus\tfeature\tCDS\t163040\t163211\t.\t+\t0\tness_ID=ADF43176.1;ID=ADF43176.1.CDS.11;Parent=ADF43176.1;Name=ADF43176.1\n",
      "mtMinus\tfeature\tCDS\t166897\t167045\t.\t+\t0\tness_ID=ADF43176.1;ID=ADF43176.1.CDS.12;Parent=ADF43176.1;Name=ADF43176.1\n",
      "mtMinus\tfeature\tCDS\t167257\t167315\t.\t+\t0\tness_ID=ADF43176.1;ID=ADF43176.1.CDS.13;Parent=ADF43176.1;Name=ADF43176.1\n",
      "mtMinus\tfeature\tCDS\t168838\t169074\t.\t+\t0\tness_ID=ADF43176.1;ID=ADF43176.1.CDS.14;Parent=ADF43176.1;Name=ADF43176.1\n",
      "mtMinus\tfeature\tCDS\t169450\t169565\t.\t+\t0\tness_ID=ADF43176.1;ID=ADF43176.1.CDS.15;Parent=ADF43176.1;Name=ADF43176.1\n",
      "mtMinus\tfeature\tCDS\t169611\t169693\t.\t+\t0\tness_ID=ADF43176.1;ID=ADF43176.1.CDS.16;Parent=ADF43176.1;Name=ADF43176.1\n",
      "mtMinus\tfeature\tCDS\t169955\t170292\t.\t+\t0\tness_ID=ADF43176.1;ID=ADF43176.1.CDS.17;Parent=ADF43176.1;Name=ADF43176.1\n",
      "mtMinus\tfeature\tCDS\t170458\t171097\t.\t+\t0\tness_ID=ADF43176.1;ID=ADF43176.1.CDS.18;Parent=ADF43176.1;Name=ADF43176.1\n"
     ]
    }
   ],
   "source": [
    "! zgrep \"ADF43176.1\" mini_gff.gff.gz\n"
   ]
  },
  {
   "cell_type": "code",
   "execution_count": 11,
   "metadata": {},
   "outputs": [
    {
     "name": "stdout",
     "output_type": "stream",
     "text": [
      "chromosome_6\tphytozome8_0\tgene\t491828\t501445\t.\t-\t.\tID=Cre06.g252801;Name=Cre06.g252801\n",
      "chromosome_6\tphytozome8_0\tmRNA\t491828\t501445\t.\t-\t.\tID=PAC:26893261;Name=Cre06.g252801.t1.3;pacid=26893261;longest=1;Parent=Cre06.g252801;ness_ID=26893261\n"
     ]
    }
   ],
   "source": [
    "!zgrep \"Cre06.g252801\" mini_gff.gff.gz"
   ]
  },
  {
   "cell_type": "code",
   "execution_count": 12,
   "metadata": {},
   "outputs": [
    {
     "name": "stdout",
     "output_type": "stream",
     "text": [
      "chromosome_6\tphytozome8_0\tmRNA\t430275\t435265\t.\t-\t.\tID=PAC:26893429;Name=Cre06.g252300.t1.2;pacid=26893429;longest=1;geneName=PDK1;Parent=Cre06.g252300;ness_ID=26893429\n",
      "mtMinus\tfeature\tgene\t175950\t179936\t.\t-\t.\tgene=PDK1m;ness_ID=ADF43177.1;ID=ADF43177.1;Name=ADF43177.1\n"
     ]
    }
   ],
   "source": [
    "!zgrep \"PDK1\" mini_gff.gff.gz"
   ]
  },
  {
   "cell_type": "markdown",
   "metadata": {},
   "source": [
    "# deHoff\n"
   ]
  },
  {
   "cell_type": "code",
   "execution_count": 13,
   "metadata": {},
   "outputs": [
    {
     "name": "stdout",
     "output_type": "stream",
     "text": [
      "NIC7\n",
      "SPS1\n",
      "SPP3\n",
      "SPP1C\n",
      "EIF5Bb\n",
      "PTC1\n",
      "182394\n",
      "97782\n",
      "RFC4\n",
      "182392\n",
      "ALB3\n",
      "PSF2\n",
      "182390\n",
      "182389\n",
      "294687\n",
      "HDH1\n",
      "TOC34\n",
      "PDK1\n",
      "CGL70\n",
      "NMDA1\n",
      "DRG1\n",
      "DLA3\n",
      "522872\n",
      "LEU1S\n",
      "SPL2\n",
      "LPS1\n",
      "522875\n",
      "PKY1\n",
      "MADS2\n",
      "UBCH1\n",
      "GCSH\n",
      "PR46a\n",
      "PR46b\n",
      "MT0618\n",
      "155027\n",
      "OTU2a\n",
      "OTU2\n",
      "HRGP1\n",
      "UTP1\n",
      "MT0796\n",
      "MT0828\n",
      "MT0829\n",
      "FUM1\n",
      "FBX9\n",
      "522914\n",
      "522915\n",
      "294742\n",
      "522917\n",
      "522918\n",
      "522919\n",
      "161193\n",
      "196073\n",
      "522922\n",
      "SAD1\n",
      "294752\n",
      "344092\n",
      "196063\n",
      "CGLD28\n",
      "THI10\n"
     ]
    }
   ],
   "source": [
    "mtPlus_shared = \"NIC7 SPS1 SPP3 EIF5Bb PTC1 182394 97782 RFC4 182392 ALB3 PSF2 182390 182389 294687 HDH1 TOC34 PDK1 CGL70 NMDA1 DRG1 DLA3 522872 LEU1S SPL2 LPS1 522875 PKY1 MADS2 UBCH1 GCSH PR46a PR46b MT0618 155027 OTU2a HRGP1 UTP1 MT0796 MT0828 MT0829 FUM1 FBX9 522914 522915 294742 522917 522918 522919 161193 196073 522922 SAD1 294752 344092 196063 CGLD28 THI10\".split()\n",
    "mtMinus_shared= \"NIC7 SPS1 SPP1C EIF5Bb PTC1 182394 97782 RFC4 182392 ALB3 PSF2 182390 182389 294687 HDH1 TOC34 PDK1 CGL70 NMDA1 DRG1 DLA3 522872 LEU1S SPL2 LPS1 522875 PKY1 MADS2 UBCH1 GCSH PR46a PR46b MT0618 155027 OTU2 HRGP1 UTP1 MT0796 MT0828 MT0829 FUM1 FBX9 522914 522915 294742 522917 522918 522919 161193 196073 522922 SAD1 294752 344092 196063 CGLD28 THI10\".split()\n",
    "shared_pairs = [(i,j) for i,j in zip(mtPlus_shared, mtMinus_shared)]\n",
    "\n",
    "nr_pair_names = []\n",
    "for i,j in zip(mtPlus_shared, mtMinus_shared):\n",
    "    if i not in nr_pair_names: nr_pair_names.append(i)\n",
    "    if j not in nr_pair_names: nr_pair_names.append(j)\n",
    "\n",
    "        \n",
    "synonyms  = {}\n",
    "#this is to avoid looking at attributes that are not names like DBXREF or codon_start \n",
    "possible_name_attributes = \"Name Parent ID geneName gene ness_ID protein_id pacid product\".split()\n",
    "for common_name in nr_pair_names:\n",
    "    \"\"\"\n",
    "    for every common name find its synonyms\n",
    "    look through all the synonyms in all the attributes in both directions\n",
    "    \"\"\"\n",
    "    synonyms[common_name] = {'synonyms':[common_name], 'gffs':[]}\n",
    "    print(common_name)\n",
    "    for l in open('mtRegions.GFF'):\n",
    "        g = GFF_line.GFF_line(l)        \n",
    "        # if common name is substring of an attribute\n",
    "#         if common_name in l:\n",
    "#             print(\"\\tfound: \", common_name, \"in this line: \", l[:12])\n",
    "        found=False\n",
    "        for attr in g.attributes:\n",
    "            if attr in possible_name_attributes:\n",
    "                for syn in synonyms[common_name]['synonyms']:\n",
    "                    # is synonym in attribute value\n",
    "                    if syn in g.attributes[attr]:\n",
    "                        found = True\n",
    "                    elif g.attributes[attr] in syn:\n",
    "                        found = True\n",
    "                    if found:\n",
    "                        for attr in g.attributes:\n",
    "                            if attr in possible_name_attributes and \\\n",
    "                            g.attributes[attr] not in synonyms[common_name]['synonyms']:\n",
    "                                synonyms[common_name]['synonyms'].append(g.attributes[attr])\n",
    "                        \n"
   ]
  },
  {
   "cell_type": "markdown",
   "metadata": {},
   "source": [
    "# combine deHoff with reciprocal best BLAST\n"
   ]
  },
  {
   "cell_type": "code",
   "execution_count": 14,
   "metadata": {},
   "outputs": [
    {
     "data": {
      "text/plain": [
       "['THI10',\n",
       " 'PAC:26893692',\n",
       " 'Cre06.g255350.t1.2',\n",
       " '26893692',\n",
       " 'Cre06.g255350',\n",
       " 'PAC:26893692.exon.1',\n",
       " 'PAC:26893692.five_prime_UTR.1',\n",
       " 'PAC:26893692.CDS.1',\n",
       " 'PAC:26893692.CDS.2',\n",
       " 'PAC:26893692.exon.2',\n",
       " 'PAC:26893692.CDS.3',\n",
       " 'PAC:26893692.exon.3',\n",
       " 'PAC:26893692.CDS.4',\n",
       " 'PAC:26893692.exon.4',\n",
       " 'PAC:26893692.CDS.5',\n",
       " 'PAC:26893692.exon.5',\n",
       " 'PAC:26893692.CDS.6',\n",
       " 'PAC:26893692.exon.6',\n",
       " 'PAC:26893692.exon.7',\n",
       " 'PAC:26893692.CDS.7',\n",
       " 'PAC:26893692.three_prime_UTR.1']"
      ]
     },
     "execution_count": 14,
     "metadata": {},
     "output_type": "execute_result"
    }
   ],
   "source": [
    "synonyms['THI10']['synonyms']"
   ]
  },
  {
   "cell_type": "code",
   "execution_count": 15,
   "metadata": {},
   "outputs": [
    {
     "name": "stdout",
     "output_type": "stream",
     "text": [
      "MT0829\n",
      "THI10\n",
      "SPL2 26894294 ADF43195.1\n",
      "PDK1 26893429 ADF43177.1\n",
      "OTU2a\n",
      "522922\n",
      "182389 26893178 ADF43171.1\n",
      "EIF5Bb 26894689 ADF43162.1\n",
      "182392 26894285 ADF43167.1\n",
      "HRGP1\n",
      "522919\n",
      "MADS2 26893651 ADF43188.1\n",
      "LEU1S 26893073 ADF43194.1\n",
      "MT0828 26893348 ADF43199.1\n",
      "FBX9\n",
      "UBCH1 26893524 ADF43187.1\n",
      "97782 26894333 ADF43165.1\n",
      "UTP1 26893801 ADF43197.1\n",
      "MT0618\n",
      "522917\n",
      "522914\n",
      "OTU2 26893063 ADF43181.1\n",
      "SPP3 26893872 ADF43161.1\n",
      "NMDA1 26894262 ADF43179.1\n",
      "522915\n",
      "522872 26894082 ADF43192.1\n",
      "GCSH 26893232 ADF43186.1\n",
      "522918\n",
      "SAD1\n",
      "ALB3 26894643 ADF43168.1\n",
      "LPS1 26893261 ADF43176.1\n",
      "294742\n",
      "344092\n",
      "PTC1 26893647 ADF43163.1\n",
      "DRG1 26893070 ADF43180.1\n",
      "182390 26893973 ADF43170.1\n",
      "155027\n",
      "161193\n",
      "PSF2 26893622 ADF43169.1\n",
      "TOC34 26894095 ADF43174.1\n",
      "CGLD28\n",
      "CGL70 26893660 ADF43178.1\n",
      "SPP1C 26893872 ADF43161.1\n",
      "MT0796\n",
      "PKY1 26894226 ADF43189.1\n",
      "RFC4 26893360 ADF43166.1\n",
      "HDH1 26893370 ADF43173.1\n",
      "196073\n",
      "PR46b 26893059 ADF43184.1\n",
      "522875 26894494 ADF43175.1\n",
      "182394 26893557 ADF43164.1\n",
      "196063\n",
      "294687 26894098 ADF43172.1\n",
      "DLA3 26894462 ADF43191.1\n",
      "FUM1\n",
      "PR46a\n",
      "SPS1 26893181 ADF43160.1\n",
      "NIC7 26894744 ADF43159.1\n",
      "294752\n"
     ]
    }
   ],
   "source": [
    "for idx in range(len(pairs)):\n",
    "    pair = pairs[idx]\n",
    "    #print(pair)\n",
    "    minus, plus = pair[0],pair[1] \n",
    "    for ness_id in pair:\n",
    "        for common_name in synonyms:\n",
    "            for syn in synonyms[common_name]['synonyms']:\n",
    "                if syn in ness_id or ness_id in syn:\n",
    "                    synonyms[common_name]['ness_ids']=pair\n",
    "                    #print(\"\\tfound it!\", ness_id, common_name)\n",
    "                    pairs[idx] = [minus, plus, common_name]\n",
    "found_count = 0\n",
    "for common_name in synonyms:\n",
    "    if 'ness_ids' in synonyms[common_name]:\n",
    "        print(common_name, synonyms[common_name]['ness_ids'][0], synonyms[common_name]['ness_ids'][1])\n",
    "        found_count +=1\n",
    "    else:\n",
    "         print(common_name)\n"
   ]
  },
  {
   "cell_type": "code",
   "execution_count": 16,
   "metadata": {},
   "outputs": [
    {
     "name": "stdout",
     "output_type": "stream",
     "text": [
      "26893261\tADF43176.1\tLPS1\n",
      "26894262\tADF43179.1\tNMDA1\n",
      "26894744\tADF43159.1\tNIC7\n",
      "26893801\tADF43197.1\tUTP1\n",
      "26894689\tADF43162.1\tEIF5Bb\n",
      "26893360\tADF43166.1\tRFC4\n",
      "26893651\tADF43188.1\tMADS2\n",
      "26893070\tADF43180.1\tDRG1\n",
      "26893524\tADF43187.1\tUBCH1\n",
      "26894098\tADF43172.1\t294687\n",
      "26893033\tADF43196.1\n",
      "26893622\tADF43169.1\tPSF2\n",
      "26894226\tADF43189.1\tPKY1\n",
      "26893429\tADF43177.1\tPDK1\n",
      "26893660\tADF43178.1\tCGL70\n",
      "26893557\tADF43164.1\t182394\n",
      "26893348\tADF43199.1\tMT0828\n",
      "26894643\tADF43168.1\tALB3\n",
      "26893973\tADF43170.1\t182390\n",
      "26893063\tADF43181.1\tOTU2\n",
      "26893073\tADF43194.1\tLEU1S\n",
      "26894285\tADF43167.1\t182392\n",
      "26893370\tADF43173.1\tHDH1\n",
      "26893872\tADF43161.1\tSPP1C\n",
      "26893059\tADF43184.1\tPR46b\n",
      "26894095\tADF43174.1\tTOC34\n",
      "26893178\tADF43171.1\t182389\n",
      "26894494\tADF43175.1\t522875\n",
      "26893232\tADF43186.1\tGCSH\n",
      "26894333\tADF43165.1\t97782\n",
      "26893647\tADF43163.1\tPTC1\n",
      "26893219\tADF43198.1\n",
      "26894294\tADF43195.1\tSPL2\n",
      "26893181\tADF43160.1\tSPS1\n",
      "26894082\tADF43192.1\t522872\n",
      "26894462\tADF43191.1\tDLA3\n"
     ]
    }
   ],
   "source": [
    "for pair in pairs:\n",
    "    print(\"\\t\".join(pair))"
   ]
  },
  {
   "cell_type": "markdown",
   "metadata": {},
   "source": [
    "# the C Domain\n",
    "\n",
    "The reciprocal best BLAST pairs didn't include the C domain because it isn't part of the mtMinus reference\n",
    "\n",
    "According to deHoff the C domain starts with mt0828 and ends with MAT3\n"
   ]
  },
  {
   "cell_type": "code",
   "execution_count": null,
   "metadata": {},
   "outputs": [],
   "source": [
    "synonyms['MT0828']"
   ]
  },
  {
   "cell_type": "code",
   "execution_count": null,
   "metadata": {},
   "outputs": [],
   "source": [
    "!tabix mini_gff.gff.gz chromosome_6:200000-1000000|grep \"ness_ID=26893348\""
   ]
  },
  {
   "cell_type": "markdown",
   "metadata": {},
   "source": [
    "# MT0828 starts at 824863"
   ]
  },
  {
   "cell_type": "code",
   "execution_count": null,
   "metadata": {},
   "outputs": [],
   "source": [
    "!tabix mini_gff.gff.gz chromosome_6:824863-1000000|grep \"mRNA\""
   ]
  },
  {
   "cell_type": "code",
   "execution_count": null,
   "metadata": {},
   "outputs": [],
   "source": []
  }
 ],
 "metadata": {
  "kernelspec": {
   "display_name": "Python 3",
   "language": "python",
   "name": "python3"
  },
  "language_info": {
   "codemirror_mode": {
    "name": "ipython",
    "version": 3
   },
   "file_extension": ".py",
   "mimetype": "text/x-python",
   "name": "python",
   "nbconvert_exporter": "python",
   "pygments_lexer": "ipython3",
   "version": "3.5.1"
  }
 },
 "nbformat": 4,
 "nbformat_minor": 2
}
